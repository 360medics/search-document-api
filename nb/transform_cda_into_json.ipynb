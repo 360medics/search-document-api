{
 "cells": [
  {
   "cell_type": "code",
   "execution_count": 14,
   "id": "213db596-3c00-4f3d-a260-1f3e640147a5",
   "metadata": {},
   "outputs": [],
   "source": [
    "import json"
   ]
  },
  {
   "cell_type": "code",
   "execution_count": null,
   "id": "665e22e6-272d-4630-acb3-6fa98b207ed7",
   "metadata": {},
   "outputs": [],
   "source": []
  },
  {
   "cell_type": "code",
   "execution_count": 2,
   "id": "f7f13087-5e41-4582-86f5-16875daa8fbd",
   "metadata": {},
   "outputs": [],
   "source": [
    "with open(\"data/fake-rcp230622/Fake_RCP230622_001.cda\", \"r\") as f:\n",
    "    content = f.read()"
   ]
  },
  {
   "cell_type": "code",
   "execution_count": 5,
   "id": "0d645753-f775-4390-a0f3-a55b77c13fbe",
   "metadata": {},
   "outputs": [],
   "source": [
    "import pandas as pd"
   ]
  },
  {
   "cell_type": "code",
   "execution_count": 19,
   "id": "6808921b-9873-4daa-be0a-11a949bd6377",
   "metadata": {},
   "outputs": [],
   "source": [
    "df = pd.read_csv(\"data/fake-rcp230622/frcp-seno.csv\", sep=\";\")"
   ]
  },
  {
   "cell_type": "code",
   "execution_count": 20,
   "id": "a8afcbd9-55b0-4b4f-b144-728ae26fcc3b",
   "metadata": {},
   "outputs": [],
   "source": [
    "jzon = json.loads(df.to_json(orient=\"records\"))"
   ]
  },
  {
   "cell_type": "code",
   "execution_count": 23,
   "id": "91371a6b-2b71-44d0-887d-b89483645691",
   "metadata": {},
   "outputs": [],
   "source": [
    "for idx, records in enumerate(jzon):\n",
    "    with open(f\"data/fake-rcp230622/Fake_{idx}.json\", \"w\") as f:\n",
    "        json.dump(records, f)"
   ]
  },
  {
   "cell_type": "code",
   "execution_count": null,
   "id": "fabd9df7-359b-4450-92aa-a5bfdaaee81d",
   "metadata": {},
   "outputs": [],
   "source": []
  }
 ],
 "metadata": {
  "kernelspec": {
   "display_name": "Python 3.10.4 ('search-document-api-env')",
   "language": "python",
   "name": "python3"
  },
  "language_info": {
   "codemirror_mode": {
    "name": "ipython",
    "version": 3
   },
   "file_extension": ".py",
   "mimetype": "text/x-python",
   "name": "python",
   "nbconvert_exporter": "python",
   "pygments_lexer": "ipython3",
   "version": "3.10.4"
  },
  "vscode": {
   "interpreter": {
    "hash": "ac3e5df6807f7205407af40498401a0445ab4bd70e39e562f6629aa0b8a885ad"
   }
  }
 },
 "nbformat": 4,
 "nbformat_minor": 5
}
